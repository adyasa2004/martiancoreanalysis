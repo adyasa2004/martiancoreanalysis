{
  "nbformat": 4,
  "nbformat_minor": 0,
  "metadata": {
    "colab": {
      "provenance": []
    },
    "kernelspec": {
      "name": "python3",
      "display_name": "Python 3"
    },
    "language_info": {
      "name": "python"
    }
  },
  "cells": [
    {
      "cell_type": "code",
      "execution_count": 22,
      "metadata": {
        "id": "Ef3X35wbk8ad"
      },
      "outputs": [],
      "source": [
        "import numpy as np\n",
        "import pandas as pd\n",
        "from sklearn.model_selection import train_test_split\n",
        "from sklearn.linear_model import LinearRegression\n",
        "from sklearn.metrics import mean_squared_error, r2_score"
      ]
    },
    {
      "cell_type": "code",
      "source": [
        "# Example data as a string\n",
        "data = \"\"\"\n",
        "50.379    8.0288    4.6130    3.4430\n",
        "60.210    8.0590    4.6269    3.4518\n",
        "70.041    8.0527    4.6177    3.4519\n",
        "79.871    8.0462    4.6084    3.4520\n",
        "89.702    8.0397    4.5992    3.4521\n",
        "99.533    8.0325    4.5898    3.4520\n",
        "109.364    8.0256    4.5807    3.4520\n",
        "119.195    8.0192    4.5718    3.4520\n",
        "129.026    8.0122    4.5627    3.4520\n",
        "138.857    8.0049    4.5535    3.4518\n",
        "148.688    7.9981    4.5447    3.4518\n",
        "158.519    7.9905    4.5357    3.4515\n",
        "168.350    7.9839    4.5271    3.4514\n",
        "178.180    7.9768    4.5184    3.4512\n",
        "188.011    7.9699    4.5097    3.4511\n",
        "197.842    7.9628    4.5010    3.4509\n",
        "207.673    7.9554    4.4922    3.4506\n",
        "217.504    7.9487    4.4837    3.4504\n",
        "227.335    7.9412    4.4748    3.4501\n",
        "237.166    7.9334    4.4659    3.4497\n",
        "246.997    7.9267    4.4576    3.4494\n",
        "256.828    7.9199    4.4493    3.4491\n",
        "266.659    7.9113    4.4394    3.4488\n",
        "276.489    7.9041    4.4312    3.4484\n",
        "286.320    7.8981    4.4233    3.4481\n",
        "296.151    7.8917    4.4152    3.4477\n",
        "305.982    7.8850    4.4069    3.4472\n",
        "315.813    7.8785    4.3988    3.4469\n",
        "325.644    7.8717    4.3905    3.4464\n",
        "335.475    7.8667    4.3828    3.4460\n",
        "345.306    7.8603    4.3750    3.4457\n",
        "355.137    7.8536    4.3667    3.4452\n",
        "364.968    7.8478    4.3591    3.4448\n",
        "374.798    7.8411    4.3508    3.4444\n",
        "384.629    7.8341    4.3424    3.4438\n",
        "394.460    7.8275    4.3341    3.4434\n",
        "404.291    7.8213    4.3265    3.4429\n",
        "414.122    7.8151    4.3184    3.4424\n",
        "423.953    7.8082    4.3101    3.4419\n",
        "433.784    7.8019    4.3020    3.4415\n",
        "443.615    7.7953    4.2939    3.4409\n",
        "466.434    7.8245    4.3024    3.4491\n",
        "489.253    7.8527    4.3103    3.4571\n",
        "512.073    7.8803    4.3182    3.4650\n",
        "534.892    7.9072    4.3259    3.4727\n",
        "557.711    7.9332    4.3331    3.4803\n",
        "580.530    7.9595    4.3406    3.4880\n",
        "603.350    7.9844    4.3475    3.4954\n",
        "626.169    8.0103    4.3551    3.5029\n",
        "648.988    8.0349    4.3620    3.5103\n",
        "671.807    8.0602    4.3692    3.5178\n",
        "694.627    8.0845    4.3761    3.5251\n",
        "717.446    8.1087    4.3829    3.5324\n",
        "740.265    8.1329    4.3898    3.5398\n",
        "763.084    8.1568    4.3967    3.5470\n",
        "785.904    8.1822    4.4044    3.5545\n",
        "808.723    8.2058    4.4112    3.5618\n",
        "831.542    8.2300    4.4182    3.5691\n",
        "854.361    8.2546    4.4258    3.5766\n",
        "877.181    8.2795    4.4335    3.5843\n",
        "900.000    8.3048    4.4415    3.5920\n",
        "916.660    8.3235    4.4475    3.5978\n",
        "933.320    8.3428    4.4539    3.6038\n",
        "949.979    8.3609    4.4597    3.6094\n",
        "966.639    8.3827    4.4675    3.6162\n",
        "983.299    8.4051    4.4759    3.6231\n",
        "999.959    8.4274    4.4842    3.6301\n",
        "1016.619    8.4500    4.4920    3.6378\n",
        "1033.278    8.4766    4.5039    3.6458\n",
        "1049.938    8.5323    4.5434    3.6567\n",
        "1066.598    8.5545    4.5494    3.6657\n",
        "1083.258    8.5725    4.5539    3.6728\n",
        "1099.918    8.5885    4.5578    3.6790\n",
        "1116.577    8.6167    4.5695    3.6884\n",
        "1133.237    8.7675    4.6637    3.7290\n",
        "1149.897    8.9782    4.7951    3.7844\n",
        "1166.557    9.0103    4.8102    3.7940\n",
        "1183.217    9.0262    4.8147    3.7998\n",
        "1199.876    9.0422    4.8193    3.8055\n",
        "1216.536    9.0566    4.8240    3.8103\n",
        "1233.196    9.0733    4.8287    3.8164\n",
        "1249.856    9.0880    4.8332    3.8216\n",
        "1266.516    9.1018    4.8378    3.8262\n",
        "1283.175    9.1184    4.8424    3.8325\n",
        "1299.835    9.1321    4.8471    3.8371\n",
        "1316.495    9.1457    4.8518    3.8417\n",
        "1333.155    9.1628    4.8561    3.8487\n",
        "1349.815    9.1770    4.8609    3.8536\n",
        "1366.474    9.1901    4.8655    3.8581\n",
        "1383.134    9.2031    4.8700    3.8625\n",
        "1399.794    9.2163    4.8746    3.8669\n",
        "1416.454    9.2474    4.8911    3.8751\n",
        "1433.114    9.2850    4.9096    3.8862\n",
        "1449.774    9.3248    4.9319    3.8966\n",
        "1466.433    9.3637    4.9539    3.9068\n",
        "1483.093    9.4045    4.9774    3.9181\n",
        "1499.753    9.4443    5.0005    3.9291\n",
        "1516.413    9.4818    5.0223    3.9396\n",
        "1533.073    9.4948    5.0269    3.9443\n",
        "1549.732    9.5073    5.0313    3.9485\n",
        "\"\"\"\n",
        "\n",
        "# Load data into a DataFrame\n",
        "from io import StringIO\n",
        "df = pd.read_csv(StringIO(data), delim_whitespace=True, header=None)\n",
        "df.columns = ['Output', 'Input1', 'Input2', 'Input3']"
      ],
      "metadata": {
        "colab": {
          "base_uri": "https://localhost:8080/"
        },
        "id": "dgh8PqlfuWxD",
        "outputId": "57e2544d-1df6-4d3d-d270-694a59424fa1"
      },
      "execution_count": 23,
      "outputs": [
        {
          "output_type": "stream",
          "name": "stderr",
          "text": [
            "<ipython-input-23-84d759e375fa>:107: FutureWarning: The 'delim_whitespace' keyword in pd.read_csv is deprecated and will be removed in a future version. Use ``sep='\\s+'`` instead\n",
            "  df = pd.read_csv(StringIO(data), delim_whitespace=True, header=None)\n"
          ]
        }
      ]
    },
    {
      "cell_type": "code",
      "source": [
        "X = df[['Input1', 'Input2', 'Input3']]  # Input features\n",
        "y = df['Output']  # Output variable"
      ],
      "metadata": {
        "id": "n_D-rqNZuj6j"
      },
      "execution_count": 24,
      "outputs": []
    },
    {
      "cell_type": "code",
      "source": [
        "X_train, X_test, y_train, y_test = train_test_split(X, y, test_size=0.2, random_state=42)"
      ],
      "metadata": {
        "id": "fitvHwloupXh"
      },
      "execution_count": 25,
      "outputs": []
    },
    {
      "cell_type": "code",
      "source": [
        "model = LinearRegression()\n",
        "model.fit(X_train, y_train)"
      ],
      "metadata": {
        "colab": {
          "base_uri": "https://localhost:8080/",
          "height": 80
        },
        "id": "kHgDDDJMuqFJ",
        "outputId": "2ea6134b-9a7b-455e-d4ed-30d5329b8313"
      },
      "execution_count": 26,
      "outputs": [
        {
          "output_type": "execute_result",
          "data": {
            "text/plain": [
              "LinearRegression()"
            ],
            "text/html": [
              "<style>#sk-container-id-2 {\n",
              "  /* Definition of color scheme common for light and dark mode */\n",
              "  --sklearn-color-text: #000;\n",
              "  --sklearn-color-text-muted: #666;\n",
              "  --sklearn-color-line: gray;\n",
              "  /* Definition of color scheme for unfitted estimators */\n",
              "  --sklearn-color-unfitted-level-0: #fff5e6;\n",
              "  --sklearn-color-unfitted-level-1: #f6e4d2;\n",
              "  --sklearn-color-unfitted-level-2: #ffe0b3;\n",
              "  --sklearn-color-unfitted-level-3: chocolate;\n",
              "  /* Definition of color scheme for fitted estimators */\n",
              "  --sklearn-color-fitted-level-0: #f0f8ff;\n",
              "  --sklearn-color-fitted-level-1: #d4ebff;\n",
              "  --sklearn-color-fitted-level-2: #b3dbfd;\n",
              "  --sklearn-color-fitted-level-3: cornflowerblue;\n",
              "\n",
              "  /* Specific color for light theme */\n",
              "  --sklearn-color-text-on-default-background: var(--sg-text-color, var(--theme-code-foreground, var(--jp-content-font-color1, black)));\n",
              "  --sklearn-color-background: var(--sg-background-color, var(--theme-background, var(--jp-layout-color0, white)));\n",
              "  --sklearn-color-border-box: var(--sg-text-color, var(--theme-code-foreground, var(--jp-content-font-color1, black)));\n",
              "  --sklearn-color-icon: #696969;\n",
              "\n",
              "  @media (prefers-color-scheme: dark) {\n",
              "    /* Redefinition of color scheme for dark theme */\n",
              "    --sklearn-color-text-on-default-background: var(--sg-text-color, var(--theme-code-foreground, var(--jp-content-font-color1, white)));\n",
              "    --sklearn-color-background: var(--sg-background-color, var(--theme-background, var(--jp-layout-color0, #111)));\n",
              "    --sklearn-color-border-box: var(--sg-text-color, var(--theme-code-foreground, var(--jp-content-font-color1, white)));\n",
              "    --sklearn-color-icon: #878787;\n",
              "  }\n",
              "}\n",
              "\n",
              "#sk-container-id-2 {\n",
              "  color: var(--sklearn-color-text);\n",
              "}\n",
              "\n",
              "#sk-container-id-2 pre {\n",
              "  padding: 0;\n",
              "}\n",
              "\n",
              "#sk-container-id-2 input.sk-hidden--visually {\n",
              "  border: 0;\n",
              "  clip: rect(1px 1px 1px 1px);\n",
              "  clip: rect(1px, 1px, 1px, 1px);\n",
              "  height: 1px;\n",
              "  margin: -1px;\n",
              "  overflow: hidden;\n",
              "  padding: 0;\n",
              "  position: absolute;\n",
              "  width: 1px;\n",
              "}\n",
              "\n",
              "#sk-container-id-2 div.sk-dashed-wrapped {\n",
              "  border: 1px dashed var(--sklearn-color-line);\n",
              "  margin: 0 0.4em 0.5em 0.4em;\n",
              "  box-sizing: border-box;\n",
              "  padding-bottom: 0.4em;\n",
              "  background-color: var(--sklearn-color-background);\n",
              "}\n",
              "\n",
              "#sk-container-id-2 div.sk-container {\n",
              "  /* jupyter's `normalize.less` sets `[hidden] { display: none; }`\n",
              "     but bootstrap.min.css set `[hidden] { display: none !important; }`\n",
              "     so we also need the `!important` here to be able to override the\n",
              "     default hidden behavior on the sphinx rendered scikit-learn.org.\n",
              "     See: https://github.com/scikit-learn/scikit-learn/issues/21755 */\n",
              "  display: inline-block !important;\n",
              "  position: relative;\n",
              "}\n",
              "\n",
              "#sk-container-id-2 div.sk-text-repr-fallback {\n",
              "  display: none;\n",
              "}\n",
              "\n",
              "div.sk-parallel-item,\n",
              "div.sk-serial,\n",
              "div.sk-item {\n",
              "  /* draw centered vertical line to link estimators */\n",
              "  background-image: linear-gradient(var(--sklearn-color-text-on-default-background), var(--sklearn-color-text-on-default-background));\n",
              "  background-size: 2px 100%;\n",
              "  background-repeat: no-repeat;\n",
              "  background-position: center center;\n",
              "}\n",
              "\n",
              "/* Parallel-specific style estimator block */\n",
              "\n",
              "#sk-container-id-2 div.sk-parallel-item::after {\n",
              "  content: \"\";\n",
              "  width: 100%;\n",
              "  border-bottom: 2px solid var(--sklearn-color-text-on-default-background);\n",
              "  flex-grow: 1;\n",
              "}\n",
              "\n",
              "#sk-container-id-2 div.sk-parallel {\n",
              "  display: flex;\n",
              "  align-items: stretch;\n",
              "  justify-content: center;\n",
              "  background-color: var(--sklearn-color-background);\n",
              "  position: relative;\n",
              "}\n",
              "\n",
              "#sk-container-id-2 div.sk-parallel-item {\n",
              "  display: flex;\n",
              "  flex-direction: column;\n",
              "}\n",
              "\n",
              "#sk-container-id-2 div.sk-parallel-item:first-child::after {\n",
              "  align-self: flex-end;\n",
              "  width: 50%;\n",
              "}\n",
              "\n",
              "#sk-container-id-2 div.sk-parallel-item:last-child::after {\n",
              "  align-self: flex-start;\n",
              "  width: 50%;\n",
              "}\n",
              "\n",
              "#sk-container-id-2 div.sk-parallel-item:only-child::after {\n",
              "  width: 0;\n",
              "}\n",
              "\n",
              "/* Serial-specific style estimator block */\n",
              "\n",
              "#sk-container-id-2 div.sk-serial {\n",
              "  display: flex;\n",
              "  flex-direction: column;\n",
              "  align-items: center;\n",
              "  background-color: var(--sklearn-color-background);\n",
              "  padding-right: 1em;\n",
              "  padding-left: 1em;\n",
              "}\n",
              "\n",
              "\n",
              "/* Toggleable style: style used for estimator/Pipeline/ColumnTransformer box that is\n",
              "clickable and can be expanded/collapsed.\n",
              "- Pipeline and ColumnTransformer use this feature and define the default style\n",
              "- Estimators will overwrite some part of the style using the `sk-estimator` class\n",
              "*/\n",
              "\n",
              "/* Pipeline and ColumnTransformer style (default) */\n",
              "\n",
              "#sk-container-id-2 div.sk-toggleable {\n",
              "  /* Default theme specific background. It is overwritten whether we have a\n",
              "  specific estimator or a Pipeline/ColumnTransformer */\n",
              "  background-color: var(--sklearn-color-background);\n",
              "}\n",
              "\n",
              "/* Toggleable label */\n",
              "#sk-container-id-2 label.sk-toggleable__label {\n",
              "  cursor: pointer;\n",
              "  display: flex;\n",
              "  width: 100%;\n",
              "  margin-bottom: 0;\n",
              "  padding: 0.5em;\n",
              "  box-sizing: border-box;\n",
              "  text-align: center;\n",
              "  align-items: start;\n",
              "  justify-content: space-between;\n",
              "  gap: 0.5em;\n",
              "}\n",
              "\n",
              "#sk-container-id-2 label.sk-toggleable__label .caption {\n",
              "  font-size: 0.6rem;\n",
              "  font-weight: lighter;\n",
              "  color: var(--sklearn-color-text-muted);\n",
              "}\n",
              "\n",
              "#sk-container-id-2 label.sk-toggleable__label-arrow:before {\n",
              "  /* Arrow on the left of the label */\n",
              "  content: \"▸\";\n",
              "  float: left;\n",
              "  margin-right: 0.25em;\n",
              "  color: var(--sklearn-color-icon);\n",
              "}\n",
              "\n",
              "#sk-container-id-2 label.sk-toggleable__label-arrow:hover:before {\n",
              "  color: var(--sklearn-color-text);\n",
              "}\n",
              "\n",
              "/* Toggleable content - dropdown */\n",
              "\n",
              "#sk-container-id-2 div.sk-toggleable__content {\n",
              "  max-height: 0;\n",
              "  max-width: 0;\n",
              "  overflow: hidden;\n",
              "  text-align: left;\n",
              "  /* unfitted */\n",
              "  background-color: var(--sklearn-color-unfitted-level-0);\n",
              "}\n",
              "\n",
              "#sk-container-id-2 div.sk-toggleable__content.fitted {\n",
              "  /* fitted */\n",
              "  background-color: var(--sklearn-color-fitted-level-0);\n",
              "}\n",
              "\n",
              "#sk-container-id-2 div.sk-toggleable__content pre {\n",
              "  margin: 0.2em;\n",
              "  border-radius: 0.25em;\n",
              "  color: var(--sklearn-color-text);\n",
              "  /* unfitted */\n",
              "  background-color: var(--sklearn-color-unfitted-level-0);\n",
              "}\n",
              "\n",
              "#sk-container-id-2 div.sk-toggleable__content.fitted pre {\n",
              "  /* unfitted */\n",
              "  background-color: var(--sklearn-color-fitted-level-0);\n",
              "}\n",
              "\n",
              "#sk-container-id-2 input.sk-toggleable__control:checked~div.sk-toggleable__content {\n",
              "  /* Expand drop-down */\n",
              "  max-height: 200px;\n",
              "  max-width: 100%;\n",
              "  overflow: auto;\n",
              "}\n",
              "\n",
              "#sk-container-id-2 input.sk-toggleable__control:checked~label.sk-toggleable__label-arrow:before {\n",
              "  content: \"▾\";\n",
              "}\n",
              "\n",
              "/* Pipeline/ColumnTransformer-specific style */\n",
              "\n",
              "#sk-container-id-2 div.sk-label input.sk-toggleable__control:checked~label.sk-toggleable__label {\n",
              "  color: var(--sklearn-color-text);\n",
              "  background-color: var(--sklearn-color-unfitted-level-2);\n",
              "}\n",
              "\n",
              "#sk-container-id-2 div.sk-label.fitted input.sk-toggleable__control:checked~label.sk-toggleable__label {\n",
              "  background-color: var(--sklearn-color-fitted-level-2);\n",
              "}\n",
              "\n",
              "/* Estimator-specific style */\n",
              "\n",
              "/* Colorize estimator box */\n",
              "#sk-container-id-2 div.sk-estimator input.sk-toggleable__control:checked~label.sk-toggleable__label {\n",
              "  /* unfitted */\n",
              "  background-color: var(--sklearn-color-unfitted-level-2);\n",
              "}\n",
              "\n",
              "#sk-container-id-2 div.sk-estimator.fitted input.sk-toggleable__control:checked~label.sk-toggleable__label {\n",
              "  /* fitted */\n",
              "  background-color: var(--sklearn-color-fitted-level-2);\n",
              "}\n",
              "\n",
              "#sk-container-id-2 div.sk-label label.sk-toggleable__label,\n",
              "#sk-container-id-2 div.sk-label label {\n",
              "  /* The background is the default theme color */\n",
              "  color: var(--sklearn-color-text-on-default-background);\n",
              "}\n",
              "\n",
              "/* On hover, darken the color of the background */\n",
              "#sk-container-id-2 div.sk-label:hover label.sk-toggleable__label {\n",
              "  color: var(--sklearn-color-text);\n",
              "  background-color: var(--sklearn-color-unfitted-level-2);\n",
              "}\n",
              "\n",
              "/* Label box, darken color on hover, fitted */\n",
              "#sk-container-id-2 div.sk-label.fitted:hover label.sk-toggleable__label.fitted {\n",
              "  color: var(--sklearn-color-text);\n",
              "  background-color: var(--sklearn-color-fitted-level-2);\n",
              "}\n",
              "\n",
              "/* Estimator label */\n",
              "\n",
              "#sk-container-id-2 div.sk-label label {\n",
              "  font-family: monospace;\n",
              "  font-weight: bold;\n",
              "  display: inline-block;\n",
              "  line-height: 1.2em;\n",
              "}\n",
              "\n",
              "#sk-container-id-2 div.sk-label-container {\n",
              "  text-align: center;\n",
              "}\n",
              "\n",
              "/* Estimator-specific */\n",
              "#sk-container-id-2 div.sk-estimator {\n",
              "  font-family: monospace;\n",
              "  border: 1px dotted var(--sklearn-color-border-box);\n",
              "  border-radius: 0.25em;\n",
              "  box-sizing: border-box;\n",
              "  margin-bottom: 0.5em;\n",
              "  /* unfitted */\n",
              "  background-color: var(--sklearn-color-unfitted-level-0);\n",
              "}\n",
              "\n",
              "#sk-container-id-2 div.sk-estimator.fitted {\n",
              "  /* fitted */\n",
              "  background-color: var(--sklearn-color-fitted-level-0);\n",
              "}\n",
              "\n",
              "/* on hover */\n",
              "#sk-container-id-2 div.sk-estimator:hover {\n",
              "  /* unfitted */\n",
              "  background-color: var(--sklearn-color-unfitted-level-2);\n",
              "}\n",
              "\n",
              "#sk-container-id-2 div.sk-estimator.fitted:hover {\n",
              "  /* fitted */\n",
              "  background-color: var(--sklearn-color-fitted-level-2);\n",
              "}\n",
              "\n",
              "/* Specification for estimator info (e.g. \"i\" and \"?\") */\n",
              "\n",
              "/* Common style for \"i\" and \"?\" */\n",
              "\n",
              ".sk-estimator-doc-link,\n",
              "a:link.sk-estimator-doc-link,\n",
              "a:visited.sk-estimator-doc-link {\n",
              "  float: right;\n",
              "  font-size: smaller;\n",
              "  line-height: 1em;\n",
              "  font-family: monospace;\n",
              "  background-color: var(--sklearn-color-background);\n",
              "  border-radius: 1em;\n",
              "  height: 1em;\n",
              "  width: 1em;\n",
              "  text-decoration: none !important;\n",
              "  margin-left: 0.5em;\n",
              "  text-align: center;\n",
              "  /* unfitted */\n",
              "  border: var(--sklearn-color-unfitted-level-1) 1pt solid;\n",
              "  color: var(--sklearn-color-unfitted-level-1);\n",
              "}\n",
              "\n",
              ".sk-estimator-doc-link.fitted,\n",
              "a:link.sk-estimator-doc-link.fitted,\n",
              "a:visited.sk-estimator-doc-link.fitted {\n",
              "  /* fitted */\n",
              "  border: var(--sklearn-color-fitted-level-1) 1pt solid;\n",
              "  color: var(--sklearn-color-fitted-level-1);\n",
              "}\n",
              "\n",
              "/* On hover */\n",
              "div.sk-estimator:hover .sk-estimator-doc-link:hover,\n",
              ".sk-estimator-doc-link:hover,\n",
              "div.sk-label-container:hover .sk-estimator-doc-link:hover,\n",
              ".sk-estimator-doc-link:hover {\n",
              "  /* unfitted */\n",
              "  background-color: var(--sklearn-color-unfitted-level-3);\n",
              "  color: var(--sklearn-color-background);\n",
              "  text-decoration: none;\n",
              "}\n",
              "\n",
              "div.sk-estimator.fitted:hover .sk-estimator-doc-link.fitted:hover,\n",
              ".sk-estimator-doc-link.fitted:hover,\n",
              "div.sk-label-container:hover .sk-estimator-doc-link.fitted:hover,\n",
              ".sk-estimator-doc-link.fitted:hover {\n",
              "  /* fitted */\n",
              "  background-color: var(--sklearn-color-fitted-level-3);\n",
              "  color: var(--sklearn-color-background);\n",
              "  text-decoration: none;\n",
              "}\n",
              "\n",
              "/* Span, style for the box shown on hovering the info icon */\n",
              ".sk-estimator-doc-link span {\n",
              "  display: none;\n",
              "  z-index: 9999;\n",
              "  position: relative;\n",
              "  font-weight: normal;\n",
              "  right: .2ex;\n",
              "  padding: .5ex;\n",
              "  margin: .5ex;\n",
              "  width: min-content;\n",
              "  min-width: 20ex;\n",
              "  max-width: 50ex;\n",
              "  color: var(--sklearn-color-text);\n",
              "  box-shadow: 2pt 2pt 4pt #999;\n",
              "  /* unfitted */\n",
              "  background: var(--sklearn-color-unfitted-level-0);\n",
              "  border: .5pt solid var(--sklearn-color-unfitted-level-3);\n",
              "}\n",
              "\n",
              ".sk-estimator-doc-link.fitted span {\n",
              "  /* fitted */\n",
              "  background: var(--sklearn-color-fitted-level-0);\n",
              "  border: var(--sklearn-color-fitted-level-3);\n",
              "}\n",
              "\n",
              ".sk-estimator-doc-link:hover span {\n",
              "  display: block;\n",
              "}\n",
              "\n",
              "/* \"?\"-specific style due to the `<a>` HTML tag */\n",
              "\n",
              "#sk-container-id-2 a.estimator_doc_link {\n",
              "  float: right;\n",
              "  font-size: 1rem;\n",
              "  line-height: 1em;\n",
              "  font-family: monospace;\n",
              "  background-color: var(--sklearn-color-background);\n",
              "  border-radius: 1rem;\n",
              "  height: 1rem;\n",
              "  width: 1rem;\n",
              "  text-decoration: none;\n",
              "  /* unfitted */\n",
              "  color: var(--sklearn-color-unfitted-level-1);\n",
              "  border: var(--sklearn-color-unfitted-level-1) 1pt solid;\n",
              "}\n",
              "\n",
              "#sk-container-id-2 a.estimator_doc_link.fitted {\n",
              "  /* fitted */\n",
              "  border: var(--sklearn-color-fitted-level-1) 1pt solid;\n",
              "  color: var(--sklearn-color-fitted-level-1);\n",
              "}\n",
              "\n",
              "/* On hover */\n",
              "#sk-container-id-2 a.estimator_doc_link:hover {\n",
              "  /* unfitted */\n",
              "  background-color: var(--sklearn-color-unfitted-level-3);\n",
              "  color: var(--sklearn-color-background);\n",
              "  text-decoration: none;\n",
              "}\n",
              "\n",
              "#sk-container-id-2 a.estimator_doc_link.fitted:hover {\n",
              "  /* fitted */\n",
              "  background-color: var(--sklearn-color-fitted-level-3);\n",
              "}\n",
              "</style><div id=\"sk-container-id-2\" class=\"sk-top-container\"><div class=\"sk-text-repr-fallback\"><pre>LinearRegression()</pre><b>In a Jupyter environment, please rerun this cell to show the HTML representation or trust the notebook. <br />On GitHub, the HTML representation is unable to render, please try loading this page with nbviewer.org.</b></div><div class=\"sk-container\" hidden><div class=\"sk-item\"><div class=\"sk-estimator fitted sk-toggleable\"><input class=\"sk-toggleable__control sk-hidden--visually\" id=\"sk-estimator-id-2\" type=\"checkbox\" checked><label for=\"sk-estimator-id-2\" class=\"sk-toggleable__label fitted sk-toggleable__label-arrow\"><div><div>LinearRegression</div></div><div><a class=\"sk-estimator-doc-link fitted\" rel=\"noreferrer\" target=\"_blank\" href=\"https://scikit-learn.org/1.6/modules/generated/sklearn.linear_model.LinearRegression.html\">?<span>Documentation for LinearRegression</span></a><span class=\"sk-estimator-doc-link fitted\">i<span>Fitted</span></span></div></label><div class=\"sk-toggleable__content fitted\"><pre>LinearRegression()</pre></div> </div></div></div></div>"
            ]
          },
          "metadata": {},
          "execution_count": 26
        }
      ]
    },
    {
      "cell_type": "code",
      "source": [
        "# Predict on the test set\n",
        "y_pred = model.predict(X_test)\n",
        "\n",
        "# Evaluate the model\n",
        "mse = mean_squared_error(y_test, y_pred)\n",
        "r2 = r2_score(y_test, y_pred)\n",
        "\n",
        "print(f\"Mean Squared Error: {mse}\")\n",
        "print(f\"R^2 Score: {r2}\")"
      ],
      "metadata": {
        "colab": {
          "base_uri": "https://localhost:8080/"
        },
        "id": "oCuh14-Lustq",
        "outputId": "33ddae75-1ef6-41bc-c82b-c2af42000cca"
      },
      "execution_count": 27,
      "outputs": [
        {
          "output_type": "stream",
          "name": "stdout",
          "text": [
            "Mean Squared Error: 233.53201123752928\n",
            "R^2 Score: 0.9988487033946215\n"
          ]
        }
      ]
    },
    {
      "cell_type": "code",
      "source": [
        "new_data = np.array([[9.5073,5.0313,3.9485]])  # Example new input\n",
        "predicted_output = model.predict(new_data)\n",
        "print(f\"Predicted Output: {predicted_output[0]}\")"
      ],
      "metadata": {
        "colab": {
          "base_uri": "https://localhost:8080/"
        },
        "id": "0_0KK2YCuwFh",
        "outputId": "119be4a3-f8f6-4f0e-da2c-2f9d2a77e149"
      },
      "execution_count": 28,
      "outputs": [
        {
          "output_type": "stream",
          "name": "stdout",
          "text": [
            "Predicted Output: 1512.7499879035377\n"
          ]
        },
        {
          "output_type": "stream",
          "name": "stderr",
          "text": [
            "/usr/local/lib/python3.11/dist-packages/sklearn/utils/validation.py:2739: UserWarning: X does not have valid feature names, but LinearRegression was fitted with feature names\n",
            "  warnings.warn(\n"
          ]
        }
      ]
    },
    {
      "cell_type": "code",
      "source": [
        "from sklearn.preprocessing import StandardScaler\n",
        "\n",
        "# Standardize the input features\n",
        "scaler_X = StandardScaler()\n",
        "X_scaled = scaler_X.fit_transform(X)\n",
        "\n",
        "# Standardize the output variable\n",
        "scaler_y = StandardScaler()\n",
        "y_scaled = scaler_y.fit_transform(y.values.reshape(-1, 1)).flatten()\n",
        "\n",
        "# Split the scaled data\n",
        "X_train, X_test, y_train, y_test = train_test_split(X_scaled, y_scaled, test_size=0.2, random_state=42)\n",
        "\n",
        "# Train the model on scaled data\n",
        "model = LinearRegression()\n",
        "model.fit(X_train, y_train)\n",
        "\n",
        "# Predict on the test set\n",
        "y_pred_scaled = model.predict(X_test)\n",
        "\n",
        "# Evaluate the model\n",
        "mse_scaled = mean_squared_error(y_test, y_pred_scaled)\n",
        "r2_scaled = r2_score(y_test, y_pred_scaled)\n",
        "\n",
        "print(f\"Mean Squared Error (Scaled): {mse_scaled}\")\n",
        "print(f\"R^2 Score (Scaled): {r2_scaled}\")"
      ],
      "metadata": {
        "colab": {
          "base_uri": "https://localhost:8080/"
        },
        "id": "YpgHfNiLxlpY",
        "outputId": "a5b15f94-75a3-456d-d6f8-b2289eebb569"
      },
      "execution_count": 29,
      "outputs": [
        {
          "output_type": "stream",
          "name": "stdout",
          "text": [
            "Mean Squared Error (Scaled): 0.0010740312113272136\n",
            "R^2 Score (Scaled): 0.9988487033946215\n"
          ]
        }
      ]
    },
    {
      "cell_type": "code",
      "source": [
        "new_data = np.array([[9.5073,5.0313,3.9485]])  # Example new input\n",
        "predicted_output = model.predict(new_data)\n",
        "print(f\"Predicted Output: {predicted_output[0]}\")"
      ],
      "metadata": {
        "colab": {
          "base_uri": "https://localhost:8080/"
        },
        "id": "8-OfVo-Uxs2q",
        "outputId": "4401a911-4039-489a-a0f5-89aa07b0ac94"
      },
      "execution_count": 30,
      "outputs": [
        {
          "output_type": "stream",
          "name": "stdout",
          "text": [
            "Predicted Output: 8.368684959832406\n"
          ]
        }
      ]
    },
    {
      "cell_type": "code",
      "source": [
        "from sklearn.preprocessing import StandardScaler"
      ],
      "metadata": {
        "id": "R89Nca0GzFSP"
      },
      "execution_count": 31,
      "outputs": []
    },
    {
      "cell_type": "code",
      "source": [
        "new_data = np.array([[9.5073, 5.0313, 3.9485]])  # Example new input\n",
        "new_data_scaled = scaler_X.transform(new_data)\n",
        "predicted_output_scaled = model.predict(new_data_scaled)\n",
        "# Reshape predicted_output_scaled to a 2D array\n",
        "predicted_output_scaled = predicted_output_scaled.reshape(-1, 1)\n",
        "predicted_output = scaler_y.inverse_transform(predicted_output_scaled)\n",
        "print(f\"Predicted Output: {predicted_output[0]}\")"
      ],
      "metadata": {
        "colab": {
          "base_uri": "https://localhost:8080/"
        },
        "id": "4krefDwCzVI1",
        "outputId": "c0b24ff7-b924-4d3a-e148-40b50bd3849a"
      },
      "execution_count": 32,
      "outputs": [
        {
          "output_type": "stream",
          "name": "stdout",
          "text": [
            "Predicted Output: [1512.7499879]\n"
          ]
        },
        {
          "output_type": "stream",
          "name": "stderr",
          "text": [
            "/usr/local/lib/python3.11/dist-packages/sklearn/utils/validation.py:2739: UserWarning: X does not have valid feature names, but StandardScaler was fitted with feature names\n",
            "  warnings.warn(\n"
          ]
        }
      ]
    },
    {
      "cell_type": "code",
      "source": [
        "print(f\"Mean Squared Error (Scaled): {mse_scaled}\")\n",
        "print(f\"R^2 Score (Scaled): {r2_scaled}\")"
      ],
      "metadata": {
        "colab": {
          "base_uri": "https://localhost:8080/"
        },
        "id": "xR8bs3-xzfip",
        "outputId": "90621a04-ecab-4058-9be4-7fdc5fe9a6d5"
      },
      "execution_count": 33,
      "outputs": [
        {
          "output_type": "stream",
          "name": "stdout",
          "text": [
            "Mean Squared Error (Scaled): 0.0010740312113272136\n",
            "R^2 Score (Scaled): 0.9988487033946215\n"
          ]
        }
      ]
    },
    {
      "cell_type": "code",
      "source": [
        "import matplotlib.pyplot as plt\n",
        "import numpy as np\n",
        "\n",
        "# Assuming you have y_test (actual output) and y_pred (predicted output)\n",
        "\n",
        "# Create a scatter plot\n",
        "plt.figure(figsize=(8, 6))  # Adjust figure size if needed\n",
        "plt.scatter(y_test, y_pred, color='blue', alpha=0.7)\n",
        "\n",
        "# Add a diagonal line for reference (perfect prediction)\n",
        "plt.plot([min(y_test), max(y_test)], [min(y_test), max(y_test)], color='red', linestyle='--')\n",
        "\n",
        "# Calculate linear regression line\n",
        "slope, intercept = np.polyfit(y_test, y_pred, 1)\n",
        "x_line = np.array([min(y_test), max(y_test)])\n",
        "y_line = slope * x_line + intercept\n",
        "\n",
        "# Plot linear regression line\n",
        "plt.plot(x_line, y_line, color='green', label='Linear Regression')\n",
        "\n",
        "# Set labels, title, and legend\n",
        "plt.xlabel(\"Actual Output\")\n",
        "plt.ylabel(\"Predicted Output\")\n",
        "plt.title(\"Actual vs. Predicted Output\")\n",
        "plt.legend()\n",
        "\n",
        "# Display the plot\n",
        "plt.show()"
      ],
      "metadata": {
        "colab": {
          "base_uri": "https://localhost:8080/",
          "height": 564
        },
        "id": "Ne0qFlgv0EU4",
        "outputId": "95e6c30c-6cac-45a3-9bca-fd4d152b981e"
      },
      "execution_count": 35,
      "outputs": [
        {
          "output_type": "display_data",
          "data": {
            "text/plain": [
              "<Figure size 800x600 with 1 Axes>"
            ],
            "image/png": "[encoded data removed]"
          },
          "metadata": {}
        }
      ]
    },
    {
      "cell_type": "code",
      "source": [
        "import numpy as np\n",
        "import matplotlib.pyplot as plt\n",
        "from sklearn.linear_model import SGDRegressor\n",
        "from sklearn.metrics import mean_squared_error\n",
        "\n",
        "# Assuming you have X_train, y_train (training data)\n",
        "\n",
        "# Create an SGDRegressor (Stochastic Gradient Descent Regressor)\n",
        "# with max_iter set to the desired number of epochs\n",
        "model = SGDRegressor(max_iter=1000)  # Adjust max_iter as needed\n",
        "\n",
        "# Initialize lists to store errors for each epoch\n",
        "train_errors = []\n",
        "\n",
        "# Train the model with partial_fit to get error after each epoch\n",
        "for epoch in range(model.max_iter):\n",
        "    model.partial_fit(X_train, y_train)  # Train for one epoch\n",
        "    y_pred_train = model.predict(X_train)\n",
        "    train_error = mean_squared_error(y_train, y_pred_train)\n",
        "    train_errors.append(train_error)\n",
        "\n",
        "# Plot the training error over epochs\n",
        "plt.plot(range(1, model.max_iter + 1), train_errors)\n",
        "plt.xlabel(\"Epoch\")\n",
        "plt.ylabel(\"Training Error (MSE)\")\n",
        "plt.title(\"Error vs. Epoch in Linear Regression\")\n",
        "plt.show()"
      ],
      "metadata": {
        "colab": {
          "base_uri": "https://localhost:8080/",
          "height": 472
        },
        "id": "UOsz4yzq5DNN",
        "outputId": "7a9428e5-4cd8-43b8-ce4a-8eade60fd466"
      },
      "execution_count": 42,
      "outputs": [
        {
          "output_type": "display_data",
          "data": {
            "text/plain": [
              "<Figure size 640x480 with 1 Axes>"
            ],
            "image/png": "[encoded data removed]"
          },
          "metadata": {}
        }
      ]
    },
    {
      "cell_type": "code",
      "source": [
        "from sklearn.model_selection import cross_val_score\n",
        "\n",
        "# Assuming you have X_scaled, y_scaled, and your model (LinearRegression)\n",
        "\n",
        "scores = cross_val_score(model, X_scaled, y_scaled, cv=5, scoring='neg_mean_squared_error')\n",
        "# Use 'neg_mean_squared_error' for scoring since cross_val_score works with scores to maximize\n",
        "\n",
        "# Convert scores to positive MSE\n",
        "mse_scores = -scores\n",
        "\n",
        "print(f\"Cross-validation MSE scores: {mse_scores}\")\n",
        "print(f\"Average MSE: {mse_scores.mean()}\")"
      ],
      "metadata": {
        "colab": {
          "base_uri": "https://localhost:8080/"
        },
        "id": "pdMkv0BT2x2O",
        "outputId": "9603e85a-07a4-44bf-b303-5aef5551c1f8"
      },
      "execution_count": 36,
      "outputs": [
        {
          "output_type": "stream",
          "name": "stdout",
          "text": [
            "Cross-validation MSE scores: [4.14666562e-03 9.96434912e-05 4.56691471e-05 1.78526540e-03\n",
            " 1.02440419e-02]\n",
            "Average MSE: 0.003264257107733189\n"
          ]
        }
      ]
    },
    {
      "cell_type": "code",
      "source": [
        "new_data = np.array([[9.5510,5.0650,3.9585]])  # Example new input\n",
        "new_data_scaled = scaler_X.transform(new_data)\n",
        "predicted_output_scaled = model.predict(new_data_scaled)\n",
        "# Reshape predicted_output_scaled to a 2D array\n",
        "predicted_output_scaled = predicted_output_scaled.reshape(-1, 1)\n",
        "predicted_output = scaler_y.inverse_transform(predicted_output_scaled)\n",
        "print(f\"Predicted Output: {predicted_output[0]}\")"
      ],
      "metadata": {
        "colab": {
          "base_uri": "https://localhost:8080/"
        },
        "id": "XBVx3B8k31IT",
        "outputId": "082a0db2-600f-4649-9ee0-e969010b1243"
      },
      "execution_count": 37,
      "outputs": [
        {
          "output_type": "stream",
          "name": "stdout",
          "text": [
            "Predicted Output: [1505.69208754]\n"
          ]
        },
        {
          "output_type": "stream",
          "name": "stderr",
          "text": [
            "/usr/local/lib/python3.11/dist-packages/sklearn/utils/validation.py:2739: UserWarning: X does not have valid feature names, but StandardScaler was fitted with feature names\n",
            "  warnings.warn(\n"
          ]
        }
      ]
    },
    {
      "cell_type": "code",
      "source": [
        "import numpy as np\n",
        "import pandas as pd\n",
        "from sklearn.tree import DecisionTreeRegressor\n",
        "from sklearn.model_selection import train_test_split\n",
        "from sklearn.metrics import mean_squared_error, r2_score\n",
        "from sklearn.preprocessing import StandardScaler  # Assuming you have your scaler_X object\n",
        "\n",
        "# Load and preprocess new data (same as before)\n",
        "# ... (code from previous response to load new_df, X_new, y_new) ...\n",
        "\n",
        "# Create and train the Decision Tree model\n",
        "tree_model = DecisionTreeRegressor(random_state=42)  # You can adjust hyperparameters\n",
        "tree_model.fit(X_scaled, y_scaled)  # Using scaled training data\n",
        "\n",
        "# Make predictions on scaled new data\n",
        "y_pred_tree_scaled = tree_model.predict(X_new_scaled)\n",
        "\n",
        "# Inverse transform predictions to original scale\n",
        "y_pred_tree = scaler_y.inverse_transform(y_pred_tree_scaled.reshape(-1, 1))\n",
        "\n",
        "# Evaluate the model on the new dataset\n",
        "mse_tree = mean_squared_error(y_new, y_pred_tree)\n",
        "r2_tree = r2_score(y_new, y_pred_tree)\n",
        "\n",
        "print(f\"Decision Tree - Mean Squared Error (New Data): {mse_tree}\")\n",
        "print(f\"Decision Tree - R^2 Score (New Data): {r2_tree}\")"
      ],
      "metadata": {
        "colab": {
          "base_uri": "https://localhost:8080/"
        },
        "id": "Ds4OPeW0bhYD",
        "outputId": "b86b3b8e-b396-45f6-9095-97074d22ecef"
      },
      "execution_count": 38,
      "outputs": [
        {
          "output_type": "stream",
          "name": "stdout",
          "text": [
            "Decision Tree - Mean Squared Error (New Data): 7242.922244333337\n",
            "Decision Tree - R^2 Score (New Data): 0.7444354693766329\n"
          ]
        }
      ]
    },
    {
      "cell_type": "code",
      "source": [
        "import numpy as np\n",
        "import pandas as pd\n",
        "from sklearn.svm import SVR\n",
        "from sklearn.metrics import mean_squared_error, r2_score\n",
        "from sklearn.preprocessing import StandardScaler  # Assuming you have scaler_X and scaler_y\n",
        "\n",
        "# Load and preprocess new data (same as before)\n",
        "# ... (code from previous response to load new_df, X_new, y_new) ...\n",
        "\n",
        "# Create and train the SVR model\n",
        "svr_model = SVR(kernel='rbf')  # You can adjust the kernel and other hyperparameters\n",
        "svr_model.fit(X_scaled, y_scaled)  # Using scaled training data\n",
        "\n",
        "# Make predictions on scaled new data\n",
        "y_pred_svr_scaled = svr_model.predict(X_new_scaled)\n",
        "\n",
        "# Inverse transform predictions to original scale\n",
        "y_pred_svr = scaler_y.inverse_transform(y_pred_svr_scaled.reshape(-1, 1))\n",
        "\n",
        "# Evaluate the model on the new dataset\n",
        "mse_svr = mean_squared_error(y_new, y_pred_svr)\n",
        "r2_svr = r2_score(y_new, y_pred_svr)\n",
        "\n",
        "print(f\"SVR - Mean Squared Error (New Data): {mse_svr}\")\n",
        "print(f\"SVR - R^2 Score (New Data): {r2_svr}\")"
      ],
      "metadata": {
        "colab": {
          "base_uri": "https://localhost:8080/"
        },
        "id": "QnmBu-9icH3K",
        "outputId": "0c2a6612-083d-44f3-c524-33bb07f1f234"
      },
      "execution_count": 39,
      "outputs": [
        {
          "output_type": "stream",
          "name": "stdout",
          "text": [
            "SVR - Mean Squared Error (New Data): 435.5930437762511\n",
            "SVR - R^2 Score (New Data): 0.9846302185747504\n"
          ]
        }
      ]
    },
    {
      "cell_type": "code",
      "source": [
        "import numpy as np\n",
        "import pandas as pd\n",
        "from sklearn.preprocessing import PolynomialFeatures\n",
        "from sklearn.linear_model import LinearRegression\n",
        "from sklearn.metrics import mean_squared_error, r2_score\n",
        "from sklearn.preprocessing import StandardScaler\n",
        "\n",
        "# Assuming you have loaded your data into 'df' and defined X, y, X_scaled, y_scaled, etc.\n",
        "\n",
        "# Create polynomial features\n",
        "poly = PolynomialFeatures(degree=3)\n",
        "X_poly = poly.fit_transform(X_scaled)  # Apply to scaled data\n",
        "\n",
        "# Train the Polynomial Regression model\n",
        "poly_model = LinearRegression()\n",
        "poly_model.fit(X_poly, y_scaled)\n",
        "\n",
        "# Make predictions on scaled new data\n",
        "X_new_poly = poly.transform(X_new_scaled)  # Apply to scaled new data\n",
        "y_pred_poly_scaled = poly_model.predict(X_new_poly)\n",
        "\n",
        "# Inverse transform predictions to original scale\n",
        "y_pred_poly = scaler_y.inverse_transform(y_pred_poly_scaled.reshape(-1, 1))\n",
        "\n",
        "# Evaluate the model on the new dataset\n",
        "mse_poly = mean_squared_error(y_new, y_pred_poly)\n",
        "r2_poly = r2_score(y_new, y_pred_poly)\n",
        "\n",
        "print(f\"Polynomial Regression (Degree 3) - Mean Squared Error (New Data): {mse_poly}\")\n",
        "print(f\"Polynomial Regression (Degree 3) - R^2 Score (New Data): {r2_poly}\")\n",
        "\n",
        "\n",
        "# Comparing with other models:\n",
        "# ... (Add the code for Linear Regression, Decision Tree, and SVR as before) ...\n",
        "\n",
        "# Create a comparison table\n",
        "models = ['Linear Regression', 'Decision Tree', 'Support Vector Regression', 'Polynomial Regression (Degree 3)']\n",
        "mse_values = [mse_scaled, mse_tree, mse_svr, mse_poly]  # Assuming you have calculated these values\n",
        "r2_values = [r2_scaled, r2_tree, r2_svr, r2_poly]    # Assuming you have calculated these values\n",
        "\n",
        "comparison_df = pd.DataFrame({'Model': models, 'MSE': mse_values, 'R^2': r2_values})\n",
        "print(\"\\nComparison of Models:\")\n",
        "print(comparison_df)"
      ],
      "metadata": {
        "colab": {
          "base_uri": "https://localhost:8080/"
        },
        "id": "Lz903q8prBzL",
        "outputId": "65a53688-1db0-4b20-85f2-019320a5b85b"
      },
      "execution_count": 41,
      "outputs": [
        {
          "output_type": "stream",
          "name": "stdout",
          "text": [
            "Polynomial Regression (Degree 3) - Mean Squared Error (New Data): 50.05461624365819\n",
            "Polynomial Regression (Degree 3) - R^2 Score (New Data): 0.9982338365545963\n",
            "\n",
            "Comparison of Models:\n",
            "                              Model          MSE       R^2\n",
            "0                 Linear Regression     0.001074  0.998849\n",
            "1                     Decision Tree  7242.922244  0.744435\n",
            "2         Support Vector Regression   435.593044  0.984630\n",
            "3  Polynomial Regression (Degree 3)    50.054616  0.998234\n"
          ]
        }
      ]
    },
    {
      "cell_type": "code",
      "source": [
        "import numpy as np\n",
        "import pandas as pd\n",
        "from sklearn.preprocessing import StandardScaler  # Make sure to import StandardScaler\n",
        "\n",
        "\n",
        "# New data as a string\n",
        "new_data_str = \"\"\"\n",
        "46.770    8.0124    4.6043    3.4386\n",
        "58.389    8.0635    4.6306    3.4524\n",
        "70.008    8.0728    4.6311    3.4556\n",
        "81.627    8.0686    4.6224    3.4563\n",
        "93.246    8.0642    4.6137    3.4570\n",
        "104.865    8.0598    4.6051    3.4577\n",
        "116.485    8.0545    4.5961    3.4581\n",
        "128.104    8.0499    4.5876    3.4588\n",
        "139.723    8.0453    4.5791    3.4594\n",
        "151.342    8.0408    4.5708    3.4599\n",
        "162.961    8.0359    4.5623    3.4605\n",
        "174.580    8.0312    4.5540    3.4610\n",
        "186.199    8.0260    4.5457    3.4614\n",
        "197.818    8.0210    4.5373    3.4619\n",
        "209.437    8.0157    4.5291    3.4622\n",
        "221.057    8.0111    4.5210    3.4627\n",
        "232.676    8.0066    4.5130    3.4632\n",
        "244.295    8.0015    4.5049    3.4635\n",
        "255.914    7.9970    4.4971    3.4640\n",
        "267.533    7.9911    4.4885    3.4642\n",
        "279.152    7.9866    4.4807    3.4646\n",
        "290.771    7.9818    4.4729    3.4649\n",
        "302.390    7.9753    4.4638    3.4653\n",
        "314.009    7.9701    4.4556    3.4655\n",
        "325.629    7.9665    4.4484    3.4658\n",
        "337.248    7.9618    4.4407    3.4661\n",
        "348.867    7.9586    4.4339    3.4664\n",
        "360.486    7.9542    4.4264    3.4665\n",
        "372.105    7.9498    4.4188    3.4668\n",
        "383.724    7.9461    4.4117    3.4670\n",
        "395.343    7.9416    4.4041    3.4672\n",
        "406.962    7.9377    4.3967    3.4675\n",
        "418.581    7.9336    4.3894    3.4677\n",
        "430.201    7.9292    4.3819    3.4679\n",
        "441.820    7.9253    4.3748    3.4680\n",
        "453.439    7.9211    4.3672    3.4683\n",
        "465.058    7.9172    4.3599    3.4685\n",
        "476.677    7.9122    4.3522    3.4686\n",
        "488.296    7.9083    4.3448    3.4688\n",
        "499.915    7.9039    4.3373    3.4690\n",
        "511.534    7.9003    4.3302    3.4693\n",
        "530.958    7.9226    4.3365    3.4757\n",
        "550.381    7.9456    4.3433    3.4824\n",
        "569.804    7.9673    4.3494    3.4888\n",
        "589.227    7.9887    4.3553    3.4951\n",
        "608.651    8.0101    4.3612    3.5014\n",
        "628.074    8.0310    4.3671    3.5077\n",
        "647.497    8.0526    4.3733    3.5142\n",
        "\"\"\"  # Added the missing value in the last row\n",
        "\n",
        "# Load new data into DataFrame\n",
        "new_df = pd.read_csv(StringIO(new_data_str), delim_whitespace=True, header=None)\n",
        "new_df.columns = ['Output', 'Input1', 'Input2', 'Input3']\n",
        "\n",
        "# Separate features and target\n",
        "X_new = new_df[['Input1', 'Input2', 'Input3']]\n",
        "y_new = new_df['Output']\n",
        "\n",
        "# Scale the new input features using the previously fitted scaler\n",
        "X_new_scaled = scaler_X.transform(X_new)  # Use the scaler_X object from your training data\n",
        "\n",
        "# Make predictions on the scaled new data\n",
        "y_pred_new_scaled = model.predict(X_new_scaled)\n",
        "\n",
        "# Inverse transform the scaled predictions to get the original scale\n",
        "y_pred_new = scaler_y.inverse_transform(y_pred_new_scaled.reshape(-1, 1))  # Reshape to 2D array\n",
        "\n",
        "# Evaluate the model on the new dataset (you can use the same metrics as before)\n",
        "from sklearn.metrics import mean_squared_error, r2_score\n",
        "\n",
        "mse_new = mean_squared_error(y_new, y_pred_new)\n",
        "r2_new = r2_score(y_new, y_pred_new)\n",
        "\n",
        "print(f\"Mean Squared Error (New Data): {mse_new}\")\n",
        "print(f\"R^2 Score (New Data): {r2_new}\")"
      ],
      "metadata": {
        "colab": {
          "base_uri": "https://localhost:8080/"
        },
        "id": "qOCgiZ6Sal4H",
        "outputId": "9260e8c2-f543-4b43-e6f8-e8a86c96eda7"
      },
      "execution_count": 40,
      "outputs": [
        {
          "output_type": "stream",
          "name": "stdout",
          "text": [
            "Mean Squared Error (New Data): 68.02960456112298\n",
            "R^2 Score (New Data): 0.9975995940075487\n"
          ]
        },
        {
          "output_type": "stream",
          "name": "stderr",
          "text": [
            "<ipython-input-40-1ed4a9432931>:59: FutureWarning: The 'delim_whitespace' keyword in pd.read_csv is deprecated and will be removed in a future version. Use ``sep='\\s+'`` instead\n",
            "  new_df = pd.read_csv(StringIO(new_data_str), delim_whitespace=True, header=None)\n"
          ]
        }
      ]
    }
  ]
}